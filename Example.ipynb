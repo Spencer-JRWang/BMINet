{
 "cells": [
  {
   "cell_type": "markdown",
   "metadata": {},
   "source": [
    "# Introduction"
   ]
  },
  {
   "cell_type": "markdown",
   "metadata": {},
   "source": [
    "# Load data"
   ]
  },
  {
   "cell_type": "code",
   "execution_count": null,
   "metadata": {},
   "outputs": [],
   "source": [
    "import pandas as pd\n",
    "df = pd.read_csv('Example/data.txt', sep='\\t')"
   ]
  },
  {
   "cell_type": "markdown",
   "metadata": {},
   "source": [
    "# Interaction Detection"
   ]
  },
  {
   "cell_type": "markdown",
   "metadata": {},
   "source": [
    "## Select features"
   ]
  },
  {
   "cell_type": "code",
   "execution_count": null,
   "metadata": {},
   "outputs": [],
   "source": [
    "# Load FeatureSelector\n",
    "from BMINet.Interaction import FeatureSelector\n",
    "selector = FeatureSelector(core_name=\"LightGBM\")\n",
    "\n",
    "# Conduct feature selection from df\n",
    "selected_features = selector.select(df)"
   ]
  },
  {
   "cell_type": "markdown",
   "metadata": {},
   "source": [
    "## Stacking Model"
   ]
  },
  {
   "cell_type": "code",
   "execution_count": null,
   "metadata": {},
   "outputs": [],
   "source": [
    "from BMINet.Interaction import StackingModel\n",
    "# Load stacking model framework\n",
    "Model = StackingModel()\n",
    "best_scores = Model.stacking_model_search(df, selected_features)"
   ]
  },
  {
   "cell_type": "markdown",
   "metadata": {},
   "source": [
    "## Machine Learning Plots"
   ]
  },
  {
   "cell_type": "code",
   "execution_count": null,
   "metadata": {},
   "outputs": [],
   "source": [
    "from BMINet.plot import plot_ml_roc\n",
    "plot_ml_roc(best_scores)"
   ]
  },
  {
   "cell_type": "code",
   "execution_count": null,
   "metadata": {},
   "outputs": [],
   "source": [
    "from BMINet.plot import plot_precision_recall\n",
    "plot_precision_recall(best_scores)"
   ]
  },
  {
   "cell_type": "code",
   "execution_count": null,
   "metadata": {},
   "outputs": [],
   "source": [
    "from BMINet.plot import plot_score_histogram\n",
    "plot_score_histogram(best_scores)"
   ]
  },
  {
   "cell_type": "code",
   "execution_count": null,
   "metadata": {},
   "outputs": [],
   "source": [
    "from BMINet.plot import plot_calibration_curve\n",
    "plot_calibration_curve(best_scores)"
   ]
  },
  {
   "cell_type": "markdown",
   "metadata": {},
   "source": [
    "## Model Explanation"
   ]
  },
  {
   "cell_type": "code",
   "execution_count": null,
   "metadata": {},
   "outputs": [],
   "source": [
    "from BMINet.Interaction import SHAPVisualizer\n",
    "shap_visualizer = SHAPVisualizer(core_name=\"LightGBM\")\n",
    "shap_visualizer.train_model(df, selected_features)\n",
    "shap_visualizer.plot_shap('./Example')\n",
    "shap_visualizer.plot_dependence('./Example')"
   ]
  },
  {
   "cell_type": "markdown",
   "metadata": {},
   "source": [
    "## Network Construction"
   ]
  },
  {
   "cell_type": "code",
   "execution_count": null,
   "metadata": {},
   "outputs": [],
   "source": [
    "# Load NetworkConstructor\n",
    "from BMINet.Interaction import NetworkConstructor\n",
    "network_constructor = NetworkConstructor(core_name=\"LightGBM\", cutoff = 1.5)\n",
    "\n",
    "# Construct sub-network list for each group\n",
    "interactions = network_constructor.construct_network(df, selected_features)\n",
    "# Construct conmbined network\n",
    "combined_graph = network_constructor.compose_all(interactions)\n",
    "# Remove isolated nodes from the network\n",
    "Graph_BMI = network_constructor.remove_isolated_nodes(combined_graph)\n",
    "# Save to .graphml file\n",
    "network_constructor.save_graph(Graph_BMI, './Example')"
   ]
  },
  {
   "cell_type": "markdown",
   "metadata": {},
   "source": [
    "## Network Analysis"
   ]
  },
  {
   "cell_type": "markdown",
   "metadata": {},
   "source": [
    "### Conduct calculation of centrality and adjacent matrix"
   ]
  },
  {
   "cell_type": "code",
   "execution_count": null,
   "metadata": {},
   "outputs": [],
   "source": [
    "from BMINet.Interaction import NetworkMetrics\n",
    "metrics_calculator = NetworkMetrics(Graph_BMI)\n",
    "metrics = metrics_calculator.compute_metrics()"
   ]
  },
  {
   "cell_type": "markdown",
   "metadata": {},
   "source": [
    "### Plots"
   ]
  },
  {
   "cell_type": "code",
   "execution_count": null,
   "metadata": {},
   "outputs": [],
   "source": [
    "from BMINet.Interaction import NetworkVisualizer\n",
    "visualizer = NetworkVisualizer(Graph_BMI, metrics)"
   ]
  },
  {
   "cell_type": "code",
   "execution_count": null,
   "metadata": {},
   "outputs": [],
   "source": [
    "visualizer.plot_adjacency_matrix(pdf_path=None)"
   ]
  },
  {
   "cell_type": "code",
   "execution_count": null,
   "metadata": {},
   "outputs": [],
   "source": [
    "visualizer.plot_centrality_measures(pdf_path=None)"
   ]
  },
  {
   "cell_type": "code",
   "execution_count": null,
   "metadata": {},
   "outputs": [],
   "source": [
    "visualizer.plot_network_communities(save_pdf=False, pdf_path=None)"
   ]
  },
  {
   "cell_type": "markdown",
   "metadata": {},
   "source": [
    "# Statistic plots"
   ]
  },
  {
   "cell_type": "markdown",
   "metadata": {},
   "source": [
    "## Single ROC"
   ]
  },
  {
   "cell_type": "code",
   "execution_count": null,
   "metadata": {},
   "outputs": [],
   "source": [
    "from BMINet.plot import plot_single_roc\n",
    "AUCs = plot_single_roc(\"Example/data.txt\")"
   ]
  },
  {
   "cell_type": "markdown",
   "metadata": {},
   "source": [
    "## PCA"
   ]
  },
  {
   "cell_type": "code",
   "execution_count": null,
   "metadata": {},
   "outputs": [],
   "source": [
    "from BMINet.plot import plot_pca\n",
    "plot_pca(\"Example/data.txt\")"
   ]
  }
 ],
 "metadata": {
  "kernelspec": {
   "display_name": "PTEN",
   "language": "python",
   "name": "python3"
  },
  "language_info": {
   "codemirror_mode": {
    "name": "ipython",
    "version": 3
   },
   "file_extension": ".py",
   "mimetype": "text/x-python",
   "name": "python",
   "nbconvert_exporter": "python",
   "pygments_lexer": "ipython3",
   "version": "3.11.0"
  }
 },
 "nbformat": 4,
 "nbformat_minor": 2
}
