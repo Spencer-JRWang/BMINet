{
 "cells": [
  {
   "cell_type": "markdown",
   "metadata": {},
   "source": [
    "# Introduction"
   ]
  },
  {
   "cell_type": "markdown",
   "metadata": {},
   "source": [
    "# Load data"
   ]
  },
  {
   "cell_type": "code",
   "execution_count": 1,
   "metadata": {},
   "outputs": [],
   "source": [
    "import pandas as pd\n",
    "df = pd.read_csv('/Users/wangjingran/Desktop/Bone_Muscle_Interaction/data/data_ml.txt', sep='\\t')"
   ]
  },
  {
   "cell_type": "markdown",
   "metadata": {},
   "source": [
    "## Clean Data"
   ]
  },
  {
   "cell_type": "code",
   "execution_count": 2,
   "metadata": {},
   "outputs": [],
   "source": [
    "from BMINet.utils import Fill_NA\n",
    "df = Fill_NA(df, na_threshold=0.2, knn_neighbors=5)"
   ]
  },
  {
   "cell_type": "markdown",
   "metadata": {},
   "source": [
    "> If use Clean Data, the column above threhold will be droped.\n",
    "\n",
    "> Other NAs will be filled by KNN"
   ]
  },
  {
   "cell_type": "markdown",
   "metadata": {},
   "source": [
    "# Formula based on Lasso"
   ]
  },
  {
   "cell_type": "code",
   "execution_count": 4,
   "metadata": {},
   "outputs": [
    {
     "name": "stdout",
     "output_type": "stream",
     "text": [
      "Disease = 114.3001 + 0.0079*L1 + -0.1026*L3 + -0.1874*L4 + -0.1275*L5 + 0.0480*L4-L5_4 + 0.0362*L5-S1_4\n"
     ]
    }
   ],
   "source": [
    "from BMINet.Model import Lasso_Formula\n",
    "formula = Lasso_Formula(df, disease_pairs=(\"A\", \"B\"))\n",
    "print(formula)"
   ]
  },
  {
   "cell_type": "markdown",
   "metadata": {},
   "source": [
    "# Interaction Detection"
   ]
  },
  {
   "cell_type": "markdown",
   "metadata": {},
   "source": [
    "## Select features"
   ]
  },
  {
   "cell_type": "code",
   "execution_count": null,
   "metadata": {},
   "outputs": [
    {
     "ename": "",
     "evalue": "",
     "output_type": "error",
     "traceback": [
      "\u001b[1;31mnotebook controller is DISPOSED. \n",
      "\u001b[1;31m有关更多详细信息，请查看 Jupyter <a href='command:jupyter.viewOutput'>log</a>。"
     ]
    }
   ],
   "source": [
    "# Load FeatureSelector\n",
    "from BMINet.Interaction import FeatureSelector\n",
    "selector = FeatureSelector(core_name=\"LightGBM\")\n",
    "\n",
    "# Conduct feature selection from df\n",
    "selected_features = selector.select(df)"
   ]
  },
  {
   "cell_type": "markdown",
   "metadata": {},
   "source": [
    "## Stacking Model"
   ]
  },
  {
   "cell_type": "code",
   "execution_count": null,
   "metadata": {},
   "outputs": [
    {
     "ename": "",
     "evalue": "",
     "output_type": "error",
     "traceback": [
      "\u001b[1;31mnotebook controller is DISPOSED. \n",
      "\u001b[1;31m有关更多详细信息，请查看 Jupyter <a href='command:jupyter.viewOutput'>log</a>。"
     ]
    }
   ],
   "source": [
    "from BMINet.Model import StackingModel\n",
    "# Load stacking model framework\n",
    "Model = StackingModel()\n",
    "best_scores = Model.stacking_model_search(df, selected_features,save_dir='/Users/wangjingran/Desktop/BMINet/Save_1')"
   ]
  },
  {
   "cell_type": "markdown",
   "metadata": {},
   "source": [
    "### Binary-Class Prediction"
   ]
  },
  {
   "cell_type": "code",
   "execution_count": null,
   "metadata": {},
   "outputs": [
    {
     "ename": "",
     "evalue": "",
     "output_type": "error",
     "traceback": [
      "\u001b[1;31mnotebook controller is DISPOSED. \n",
      "\u001b[1;31m有关更多详细信息，请查看 Jupyter <a href='command:jupyter.viewOutput'>log</a>。"
     ]
    }
   ],
   "source": [
    "single_prediction_score = Model.single_predict(\"A vs C\", [...], use_our_model=True)\n",
    "multiple_prediction_score = Model.multiple_predict(\"A vs B\", [[...], [...]], use_our_model=True)"
   ]
  },
  {
   "cell_type": "code",
   "execution_count": null,
   "metadata": {},
   "outputs": [
    {
     "ename": "",
     "evalue": "",
     "output_type": "error",
     "traceback": [
      "\u001b[1;31mnotebook controller is DISPOSED. \n",
      "\u001b[1;31m有关更多详细信息，请查看 Jupyter <a href='command:jupyter.viewOutput'>log</a>。"
     ]
    }
   ],
   "source": [
    "Model_our = StackingModel()\n",
    "# Predict from single individual\n",
    "single_prediction_score = Model_our.single_predict(\"A vs C\", [...], use_our_model=True)\n",
    "multiple_prediction_score = Model_our.multiple_predict(\"A vs B\", [[...], [...]], use_our_model=True)"
   ]
  },
  {
   "cell_type": "markdown",
   "metadata": {},
   "source": [
    "> NA values in list should be `None`"
   ]
  },
  {
   "cell_type": "markdown",
   "metadata": {},
   "source": [
    "### Multi-Class Prediction"
   ]
  },
  {
   "cell_type": "code",
   "execution_count": null,
   "metadata": {},
   "outputs": [
    {
     "ename": "",
     "evalue": "",
     "output_type": "error",
     "traceback": [
      "\u001b[1;31mnotebook controller is DISPOSED. \n",
      "\u001b[1;31m有关更多详细信息，请查看 Jupyter <a href='command:jupyter.viewOutput'>log</a>。"
     ]
    }
   ],
   "source": [
    "Model_our = StackingModel()\n",
    "category = Model_our.single_predict_multi_classify([...], use_our_model=True, show_route=False)"
   ]
  },
  {
   "cell_type": "code",
   "execution_count": null,
   "metadata": {},
   "outputs": [
    {
     "ename": "",
     "evalue": "",
     "output_type": "error",
     "traceback": [
      "\u001b[1;31mnotebook controller is DISPOSED. \n",
      "\u001b[1;31m有关更多详细信息，请查看 Jupyter <a href='command:jupyter.viewOutput'>log</a>。"
     ]
    }
   ],
   "source": [
    "from BMINet.utils import convert_to_number\n",
    "f = open(\"/Users/wangjingran/Desktop/Bone_Muscle_Interaction/TT/test_fold_1.txt\", \"r\")\n",
    "all_data = []\n",
    "all_data_new = []\n",
    "all_text = f.readlines()\n",
    "for i in all_text:\n",
    "    text = i.rstrip(\"\\n\")\n",
    "    text = text.split(\"\\t\")\n",
    "    text = text[1:]\n",
    "    all_data.append(text)\n",
    "all_data = all_data[1:]\n",
    "for i in all_data:\n",
    "    j = convert_to_number(i)\n",
    "    all_data_new.append(j)\n",
    "f.close()"
   ]
  },
  {
   "cell_type": "code",
   "execution_count": null,
   "metadata": {},
   "outputs": [
    {
     "ename": "",
     "evalue": "",
     "output_type": "error",
     "traceback": [
      "\u001b[1;31mnotebook controller is DISPOSED. \n",
      "\u001b[1;31m有关更多详细信息，请查看 Jupyter <a href='command:jupyter.viewOutput'>log</a>。"
     ]
    }
   ],
   "source": [
    "from BMINet.Model import StackingModel\n",
    "Model_our = StackingModel()\n",
    "category = Model_our.multi_predict_multi_classify(new_data = all_data_new, use_our_model=True, show_route=True,train_on_data='/Users/wangjingran/Desktop/Bone_Muscle_Interaction/TT/train_fold_1.txt')"
   ]
  },
  {
   "cell_type": "code",
   "execution_count": null,
   "metadata": {},
   "outputs": [
    {
     "ename": "",
     "evalue": "",
     "output_type": "error",
     "traceback": [
      "\u001b[1;31mnotebook controller is DISPOSED. \n",
      "\u001b[1;31m有关更多详细信息，请查看 Jupyter <a href='command:jupyter.viewOutput'>log</a>。"
     ]
    }
   ],
   "source": [
    "category = ['Stage C', 'Stage A', 'Stage D', 'Stage B', 'Stage A', 'Stage D', 'Stage A', 'Stage B', 'Stage A', 'Stage D', 'Stage D', 'Stage B', 'Stage B', 'Stage B', 'Stage A', 'Stage A', 'Stage B', 'Stage A', 'Stage A', 'Stage A', 'Stage B', 'Stage B', 'Stage B', 'Stage A', 'Stage D', 'Stage B', 'Stage A', 'Stage D', 'Stage D', 'Stage A', 'Stage C', 'Stage B', 'Stage A', 'Stage B', 'Stage B', 'Stage D', 'Stage D', 'Stage A', 'Stage A', 'Stage B', 'Stage B', 'Stage D', 'Stage B', 'Stage B', 'Stage B', 'Stage D', 'Stage C', 'Stage A', 'Stage B', 'Stage D', 'Stage D', 'Stage D', 'Stage B', 'Stage D', 'Stage B', 'Stage D', 'Stage D', 'Stage A', 'Stage D', 'Stage B', 'Stage B', 'Stage C', 'Stage B', 'Stage B', 'Stage D', 'Stage D', 'Stage C', 'Stage D', 'Stage D', 'Stage B', 'Stage B', 'Stage D', 'Stage C', 'Stage D', 'Stage D', 'Stage D', 'Stage C', 'Stage D', 'Stage B', 'Stage B', 'Stage D', 'Stage D', 'Stage B', 'Stage B', 'Stage D', 'Stage B', 'Stage D', 'Stage C', 'Stage D']"
   ]
  },
  {
   "cell_type": "code",
   "execution_count": null,
   "metadata": {},
   "outputs": [
    {
     "ename": "",
     "evalue": "",
     "output_type": "error",
     "traceback": [
      "\u001b[1;31mnotebook controller is DISPOSED. \n",
      "\u001b[1;31m有关更多详细信息，请查看 Jupyter <a href='command:jupyter.viewOutput'>log</a>。"
     ]
    }
   ],
   "source": [
    "print(category[:21].count('Stage A'))\n",
    "print(category[:21].count('Stage B'))\n",
    "print(category[:21].count('Stage C'))\n",
    "print(category[:21].count('Stage D'))"
   ]
  },
  {
   "cell_type": "code",
   "execution_count": null,
   "metadata": {},
   "outputs": [
    {
     "ename": "",
     "evalue": "",
     "output_type": "error",
     "traceback": [
      "\u001b[1;31mnotebook controller is DISPOSED. \n",
      "\u001b[1;31m有关更多详细信息，请查看 Jupyter <a href='command:jupyter.viewOutput'>log</a>。"
     ]
    }
   ],
   "source": [
    "print(category[21:47].count('Stage A'))\n",
    "print(category[21:47].count('Stage B'))\n",
    "print(category[21:47].count('Stage C'))\n",
    "print(category[21:47].count('Stage D'))"
   ]
  },
  {
   "cell_type": "code",
   "execution_count": null,
   "metadata": {},
   "outputs": [
    {
     "ename": "",
     "evalue": "",
     "output_type": "error",
     "traceback": [
      "\u001b[1;31mnotebook controller is DISPOSED. \n",
      "\u001b[1;31m有关更多详细信息，请查看 Jupyter <a href='command:jupyter.viewOutput'>log</a>。"
     ]
    }
   ],
   "source": [
    "print(category[47:63].count('Stage A'))\n",
    "print(category[47:63].count('Stage B'))\n",
    "print(category[47:63].count('Stage C'))\n",
    "print(category[47:63].count('Stage D'))"
   ]
  },
  {
   "cell_type": "code",
   "execution_count": null,
   "metadata": {},
   "outputs": [
    {
     "ename": "",
     "evalue": "",
     "output_type": "error",
     "traceback": [
      "\u001b[1;31mnotebook controller is DISPOSED. \n",
      "\u001b[1;31m有关更多详细信息，请查看 Jupyter <a href='command:jupyter.viewOutput'>log</a>。"
     ]
    }
   ],
   "source": [
    "print(category[63:].count('Stage A'))\n",
    "print(category[63:].count('Stage B'))\n",
    "print(category[63:].count('Stage C'))\n",
    "print(category[63:].count('Stage D'))"
   ]
  },
  {
   "cell_type": "code",
   "execution_count": null,
   "metadata": {},
   "outputs": [
    {
     "ename": "",
     "evalue": "",
     "output_type": "error",
     "traceback": [
      "\u001b[1;31mnotebook controller is DISPOSED. \n",
      "\u001b[1;31m有关更多详细信息，请查看 Jupyter <a href='command:jupyter.viewOutput'>log</a>。"
     ]
    }
   ],
   "source": [
    "categories = Model.multi_predict_multi_classify(all_data_new, use_our_model=False, show_route=True)"
   ]
  },
  {
   "cell_type": "markdown",
   "metadata": {},
   "source": [
    "> If you use `use_our model = True`, you are predicting disease stages based on our data and model\n",
    ">\n",
    "> If you are researching on a brand new project, use `use_our_model = False`"
   ]
  },
  {
   "cell_type": "markdown",
   "metadata": {},
   "source": [
    "## Machine Learning Plots"
   ]
  },
  {
   "cell_type": "code",
   "execution_count": null,
   "metadata": {},
   "outputs": [
    {
     "ename": "",
     "evalue": "",
     "output_type": "error",
     "traceback": [
      "\u001b[1;31mnotebook controller is DISPOSED. \n",
      "\u001b[1;31m有关更多详细信息，请查看 Jupyter <a href='command:jupyter.viewOutput'>log</a>。"
     ]
    }
   ],
   "source": [
    "from BMINet.plot import plot_ml_roc\n",
    "plot_ml_roc(best_scores, color_set=\"Paired\",output_dir='./')"
   ]
  },
  {
   "cell_type": "code",
   "execution_count": null,
   "metadata": {},
   "outputs": [
    {
     "ename": "",
     "evalue": "",
     "output_type": "error",
     "traceback": [
      "\u001b[1;31mnotebook controller is DISPOSED. \n",
      "\u001b[1;31m有关更多详细信息，请查看 Jupyter <a href='command:jupyter.viewOutput'>log</a>。"
     ]
    }
   ],
   "source": [
    "from BMINet.plot import plot_precision_recall\n",
    "plot_precision_recall(best_scores)"
   ]
  },
  {
   "cell_type": "code",
   "execution_count": null,
   "metadata": {},
   "outputs": [
    {
     "ename": "",
     "evalue": "",
     "output_type": "error",
     "traceback": [
      "\u001b[1;31mnotebook controller is DISPOSED. \n",
      "\u001b[1;31m有关更多详细信息，请查看 Jupyter <a href='command:jupyter.viewOutput'>log</a>。"
     ]
    }
   ],
   "source": [
    "from BMINet.plot import plot_score_histogram\n",
    "plot_score_histogram(best_scores)"
   ]
  },
  {
   "cell_type": "code",
   "execution_count": null,
   "metadata": {},
   "outputs": [
    {
     "ename": "",
     "evalue": "",
     "output_type": "error",
     "traceback": [
      "\u001b[1;31mnotebook controller is DISPOSED. \n",
      "\u001b[1;31m有关更多详细信息，请查看 Jupyter <a href='command:jupyter.viewOutput'>log</a>。"
     ]
    }
   ],
   "source": [
    "from BMINet.plot import plot_calibration_curve\n",
    "plot_calibration_curve(best_scores)"
   ]
  },
  {
   "cell_type": "markdown",
   "metadata": {},
   "source": [
    "## Model Explanation"
   ]
  },
  {
   "cell_type": "code",
   "execution_count": null,
   "metadata": {},
   "outputs": [
    {
     "ename": "",
     "evalue": "",
     "output_type": "error",
     "traceback": [
      "\u001b[1;31mnotebook controller is DISPOSED. \n",
      "\u001b[1;31m有关更多详细信息，请查看 Jupyter <a href='command:jupyter.viewOutput'>log</a>。"
     ]
    }
   ],
   "source": [
    "from BMINet.Interaction import SHAPVisualizer\n",
    "shap_visualizer = SHAPVisualizer(core_name=\"LightGBM\")\n",
    "shap_visualizer.train_model(df, selected_features)\n",
    "shap_visualizer.plot_shap('./Example')\n",
    "shap_visualizer.plot_dependence('./Example')"
   ]
  },
  {
   "cell_type": "markdown",
   "metadata": {},
   "source": [
    "## Network Construction"
   ]
  },
  {
   "cell_type": "code",
   "execution_count": null,
   "metadata": {},
   "outputs": [
    {
     "ename": "",
     "evalue": "",
     "output_type": "error",
     "traceback": [
      "\u001b[1;31mnotebook controller is DISPOSED. \n",
      "\u001b[1;31m有关更多详细信息，请查看 Jupyter <a href='command:jupyter.viewOutput'>log</a>。"
     ]
    }
   ],
   "source": [
    "# Load NetworkConstructor\n",
    "from BMINet.Interaction import NetworkConstructor\n",
    "network_constructor = NetworkConstructor(core_name=\"LightGBM\", cutoff = 1.5)\n",
    "\n",
    "# Construct sub-network list for each group\n",
    "interactions = network_constructor.construct_network(df, selected_features)\n",
    "# Construct conmbined network\n",
    "combined_graph = network_constructor.compose_all(interactions)\n",
    "# Remove isolated nodes from the network\n",
    "Graph_BMI = network_constructor.remove_isolated_nodes(combined_graph)\n",
    "# Save to .graphml file\n",
    "network_constructor.save_graph(Graph_BMI, './Example')"
   ]
  },
  {
   "cell_type": "markdown",
   "metadata": {},
   "source": [
    "## Network Analysis"
   ]
  },
  {
   "cell_type": "markdown",
   "metadata": {},
   "source": [
    "### Conduct calculation of centrality and adjacent matrix"
   ]
  },
  {
   "cell_type": "code",
   "execution_count": null,
   "metadata": {},
   "outputs": [
    {
     "ename": "",
     "evalue": "",
     "output_type": "error",
     "traceback": [
      "\u001b[1;31mnotebook controller is DISPOSED. \n",
      "\u001b[1;31m有关更多详细信息，请查看 Jupyter <a href='command:jupyter.viewOutput'>log</a>。"
     ]
    }
   ],
   "source": [
    "from BMINet.Interaction import NetworkMetrics\n",
    "metrics_calculator = NetworkMetrics(Graph_BMI)\n",
    "metrics = metrics_calculator.compute_metrics()"
   ]
  },
  {
   "cell_type": "markdown",
   "metadata": {},
   "source": [
    "### Plots"
   ]
  },
  {
   "cell_type": "code",
   "execution_count": null,
   "metadata": {},
   "outputs": [
    {
     "ename": "",
     "evalue": "",
     "output_type": "error",
     "traceback": [
      "\u001b[1;31mnotebook controller is DISPOSED. \n",
      "\u001b[1;31m有关更多详细信息，请查看 Jupyter <a href='command:jupyter.viewOutput'>log</a>。"
     ]
    }
   ],
   "source": [
    "from BMINet.Interaction import NetworkVisualizer\n",
    "visualizer = NetworkVisualizer(Graph_BMI, metrics)"
   ]
  },
  {
   "cell_type": "code",
   "execution_count": null,
   "metadata": {},
   "outputs": [
    {
     "ename": "",
     "evalue": "",
     "output_type": "error",
     "traceback": [
      "\u001b[1;31mnotebook controller is DISPOSED. \n",
      "\u001b[1;31m有关更多详细信息，请查看 Jupyter <a href='command:jupyter.viewOutput'>log</a>。"
     ]
    }
   ],
   "source": [
    "visualizer.plot_adjacency_matrix(pdf_path=None)"
   ]
  },
  {
   "cell_type": "code",
   "execution_count": null,
   "metadata": {},
   "outputs": [
    {
     "ename": "",
     "evalue": "",
     "output_type": "error",
     "traceback": [
      "\u001b[1;31mnotebook controller is DISPOSED. \n",
      "\u001b[1;31m有关更多详细信息，请查看 Jupyter <a href='command:jupyter.viewOutput'>log</a>。"
     ]
    }
   ],
   "source": [
    "visualizer.plot_centrality_measures(pdf_path=None)"
   ]
  },
  {
   "cell_type": "code",
   "execution_count": null,
   "metadata": {},
   "outputs": [
    {
     "ename": "",
     "evalue": "",
     "output_type": "error",
     "traceback": [
      "\u001b[1;31mnotebook controller is DISPOSED. \n",
      "\u001b[1;31m有关更多详细信息，请查看 Jupyter <a href='command:jupyter.viewOutput'>log</a>。"
     ]
    }
   ],
   "source": [
    "visualizer.plot_network_communities(pdf_path=None)"
   ]
  },
  {
   "cell_type": "markdown",
   "metadata": {},
   "source": [
    "# Statistic plots"
   ]
  },
  {
   "cell_type": "markdown",
   "metadata": {},
   "source": [
    "## Single ROC"
   ]
  },
  {
   "cell_type": "code",
   "execution_count": null,
   "metadata": {},
   "outputs": [
    {
     "ename": "",
     "evalue": "",
     "output_type": "error",
     "traceback": [
      "\u001b[1;31mnotebook controller is DISPOSED. \n",
      "\u001b[1;31m有关更多详细信息，请查看 Jupyter <a href='command:jupyter.viewOutput'>log</a>。"
     ]
    }
   ],
   "source": [
    "from BMINet.plot import plot_single_roc\n",
    "AUCs = plot_single_roc(\"Example/data.txt\")"
   ]
  },
  {
   "cell_type": "markdown",
   "metadata": {},
   "source": [
    "## PCA"
   ]
  },
  {
   "cell_type": "code",
   "execution_count": null,
   "metadata": {},
   "outputs": [
    {
     "ename": "",
     "evalue": "",
     "output_type": "error",
     "traceback": [
      "\u001b[1;31mnotebook controller is DISPOSED. \n",
      "\u001b[1;31m有关更多详细信息，请查看 Jupyter <a href='command:jupyter.viewOutput'>log</a>。"
     ]
    }
   ],
   "source": [
    "from BMINet.plot import plot_pca\n",
    "plot_pca(\"Example/data.txt\")"
   ]
  },
  {
   "cell_type": "code",
   "execution_count": null,
   "metadata": {},
   "outputs": [
    {
     "ename": "",
     "evalue": "",
     "output_type": "error",
     "traceback": [
      "\u001b[1;31mnotebook controller is DISPOSED. \n",
      "\u001b[1;31m有关更多详细信息，请查看 Jupyter <a href='command:jupyter.viewOutput'>log</a>。"
     ]
    }
   ],
   "source": [
    "from BMINet.Model import StackingModel\n",
    "Model = StackingModel()\n",
    "score = Model.performance_on_test('/Users/wangjingran/Desktop/Bone_Muscle_Interaction/TT/test_fold_1.txt')"
   ]
  }
 ],
 "metadata": {
  "kernelspec": {
   "display_name": "bmitest",
   "language": "python",
   "name": "python3"
  },
  "language_info": {
   "codemirror_mode": {
    "name": "ipython",
    "version": 3
   },
   "file_extension": ".py",
   "mimetype": "text/x-python",
   "name": "python",
   "nbconvert_exporter": "python",
   "pygments_lexer": "ipython3",
   "version": "3.10.14"
  }
 },
 "nbformat": 4,
 "nbformat_minor": 4
}
